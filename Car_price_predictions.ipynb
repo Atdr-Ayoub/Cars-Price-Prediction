{
  "nbformat": 4,
  "nbformat_minor": 0,
  "metadata": {
    "colab": {
      "name": "Car price predictions.ipynb",
      "provenance": [],
      "collapsed_sections": [],
      "authorship_tag": "ABX9TyODRLZwabhYYg/bgNidtXQ6",
      "include_colab_link": true
    },
    "kernelspec": {
      "name": "python3",
      "display_name": "Python 3"
    }
  },
  "cells": [
    {
      "cell_type": "markdown",
      "metadata": {
        "id": "view-in-github",
        "colab_type": "text"
      },
      "source": [
        "<a href=\"https://colab.research.google.com/github/Atdr-Ayoub/Cars-Price-Prediction/blob/main/Car_price_predictions.ipynb\" target=\"_parent\"><img src=\"https://colab.research.google.com/assets/colab-badge.svg\" alt=\"Open In Colab\"/></a>"
      ]
    },
    {
      "cell_type": "markdown",
      "metadata": {
        "id": "xM9NnkTfzUjc"
      },
      "source": [
        "# Car price predictions"
      ]
    },
    {
      "cell_type": "markdown",
      "metadata": {
        "id": "bzn3KvFLzMCG"
      },
      "source": [
        "## Import libraries & Data"
      ]
    },
    {
      "cell_type": "markdown",
      "metadata": {
        "id": "r-yCeNs3zirF"
      },
      "source": [
        "**Libraries**"
      ]
    },
    {
      "cell_type": "code",
      "metadata": {
        "id": "KELSrXvDZFeL"
      },
      "source": [
        "import pandas as pd\n",
        "import numpy as np\n",
        "import seaborn as sns"
      ],
      "execution_count": null,
      "outputs": []
    },
    {
      "cell_type": "markdown",
      "metadata": {
        "id": "ROzNrqgszC_m"
      },
      "source": [
        "**Data**"
      ]
    },
    {
      "cell_type": "code",
      "metadata": {
        "id": "rDxDMetKZ17l",
        "outputId": "b7f62fb0-5248-43bb-a1f2-6a038d24f422",
        "colab": {
          "base_uri": "https://localhost:8080/",
          "height": 299
        }
      },
      "source": [
        "cols = ['symboling', 'normalized-losses','make','fuel-type','aspiration','num-of-doors',\n",
        "        'body-style','drive-wheels','engine-location','wheel-base','length','width',\n",
        "        'height','curb-weight','engine-type','num_-of-cylinders','engine-size',\n",
        "        'fuel-system','bore','stroke','compression-rate','horsepower','peak-rpm',\n",
        "        'city-mpg','highway-mpg','price']\n",
        "\n",
        "cars = pd.read_csv('/content/imports-85.data', names=cols)\n",
        "cars.head()"
      ],
      "execution_count": null,
      "outputs": [
        {
          "output_type": "execute_result",
          "data": {
            "text/html": [
              "<div>\n",
              "<style scoped>\n",
              "    .dataframe tbody tr th:only-of-type {\n",
              "        vertical-align: middle;\n",
              "    }\n",
              "\n",
              "    .dataframe tbody tr th {\n",
              "        vertical-align: top;\n",
              "    }\n",
              "\n",
              "    .dataframe thead th {\n",
              "        text-align: right;\n",
              "    }\n",
              "</style>\n",
              "<table border=\"1\" class=\"dataframe\">\n",
              "  <thead>\n",
              "    <tr style=\"text-align: right;\">\n",
              "      <th></th>\n",
              "      <th>symboling</th>\n",
              "      <th>normalized-losses</th>\n",
              "      <th>make</th>\n",
              "      <th>fuel-type</th>\n",
              "      <th>aspiration</th>\n",
              "      <th>num-of-doors</th>\n",
              "      <th>body-style</th>\n",
              "      <th>drive-wheels</th>\n",
              "      <th>engine-location</th>\n",
              "      <th>wheel-base</th>\n",
              "      <th>length</th>\n",
              "      <th>width</th>\n",
              "      <th>height</th>\n",
              "      <th>curb-weight</th>\n",
              "      <th>engine-type</th>\n",
              "      <th>num_-of-cylinders</th>\n",
              "      <th>engine-size</th>\n",
              "      <th>fuel-system</th>\n",
              "      <th>bore</th>\n",
              "      <th>stroke</th>\n",
              "      <th>compression-rate</th>\n",
              "      <th>horsepower</th>\n",
              "      <th>peak-rpm</th>\n",
              "      <th>city-mpg</th>\n",
              "      <th>highway-mpg</th>\n",
              "      <th>price</th>\n",
              "    </tr>\n",
              "  </thead>\n",
              "  <tbody>\n",
              "    <tr>\n",
              "      <th>0</th>\n",
              "      <td>3</td>\n",
              "      <td>?</td>\n",
              "      <td>alfa-romero</td>\n",
              "      <td>gas</td>\n",
              "      <td>std</td>\n",
              "      <td>two</td>\n",
              "      <td>convertible</td>\n",
              "      <td>rwd</td>\n",
              "      <td>front</td>\n",
              "      <td>88.6</td>\n",
              "      <td>168.8</td>\n",
              "      <td>64.1</td>\n",
              "      <td>48.8</td>\n",
              "      <td>2548</td>\n",
              "      <td>dohc</td>\n",
              "      <td>four</td>\n",
              "      <td>130</td>\n",
              "      <td>mpfi</td>\n",
              "      <td>3.47</td>\n",
              "      <td>2.68</td>\n",
              "      <td>9.0</td>\n",
              "      <td>111</td>\n",
              "      <td>5000</td>\n",
              "      <td>21</td>\n",
              "      <td>27</td>\n",
              "      <td>13495</td>\n",
              "    </tr>\n",
              "    <tr>\n",
              "      <th>1</th>\n",
              "      <td>3</td>\n",
              "      <td>?</td>\n",
              "      <td>alfa-romero</td>\n",
              "      <td>gas</td>\n",
              "      <td>std</td>\n",
              "      <td>two</td>\n",
              "      <td>convertible</td>\n",
              "      <td>rwd</td>\n",
              "      <td>front</td>\n",
              "      <td>88.6</td>\n",
              "      <td>168.8</td>\n",
              "      <td>64.1</td>\n",
              "      <td>48.8</td>\n",
              "      <td>2548</td>\n",
              "      <td>dohc</td>\n",
              "      <td>four</td>\n",
              "      <td>130</td>\n",
              "      <td>mpfi</td>\n",
              "      <td>3.47</td>\n",
              "      <td>2.68</td>\n",
              "      <td>9.0</td>\n",
              "      <td>111</td>\n",
              "      <td>5000</td>\n",
              "      <td>21</td>\n",
              "      <td>27</td>\n",
              "      <td>16500</td>\n",
              "    </tr>\n",
              "    <tr>\n",
              "      <th>2</th>\n",
              "      <td>1</td>\n",
              "      <td>?</td>\n",
              "      <td>alfa-romero</td>\n",
              "      <td>gas</td>\n",
              "      <td>std</td>\n",
              "      <td>two</td>\n",
              "      <td>hatchback</td>\n",
              "      <td>rwd</td>\n",
              "      <td>front</td>\n",
              "      <td>94.5</td>\n",
              "      <td>171.2</td>\n",
              "      <td>65.5</td>\n",
              "      <td>52.4</td>\n",
              "      <td>2823</td>\n",
              "      <td>ohcv</td>\n",
              "      <td>six</td>\n",
              "      <td>152</td>\n",
              "      <td>mpfi</td>\n",
              "      <td>2.68</td>\n",
              "      <td>3.47</td>\n",
              "      <td>9.0</td>\n",
              "      <td>154</td>\n",
              "      <td>5000</td>\n",
              "      <td>19</td>\n",
              "      <td>26</td>\n",
              "      <td>16500</td>\n",
              "    </tr>\n",
              "    <tr>\n",
              "      <th>3</th>\n",
              "      <td>2</td>\n",
              "      <td>164</td>\n",
              "      <td>audi</td>\n",
              "      <td>gas</td>\n",
              "      <td>std</td>\n",
              "      <td>four</td>\n",
              "      <td>sedan</td>\n",
              "      <td>fwd</td>\n",
              "      <td>front</td>\n",
              "      <td>99.8</td>\n",
              "      <td>176.6</td>\n",
              "      <td>66.2</td>\n",
              "      <td>54.3</td>\n",
              "      <td>2337</td>\n",
              "      <td>ohc</td>\n",
              "      <td>four</td>\n",
              "      <td>109</td>\n",
              "      <td>mpfi</td>\n",
              "      <td>3.19</td>\n",
              "      <td>3.40</td>\n",
              "      <td>10.0</td>\n",
              "      <td>102</td>\n",
              "      <td>5500</td>\n",
              "      <td>24</td>\n",
              "      <td>30</td>\n",
              "      <td>13950</td>\n",
              "    </tr>\n",
              "    <tr>\n",
              "      <th>4</th>\n",
              "      <td>2</td>\n",
              "      <td>164</td>\n",
              "      <td>audi</td>\n",
              "      <td>gas</td>\n",
              "      <td>std</td>\n",
              "      <td>four</td>\n",
              "      <td>sedan</td>\n",
              "      <td>4wd</td>\n",
              "      <td>front</td>\n",
              "      <td>99.4</td>\n",
              "      <td>176.6</td>\n",
              "      <td>66.4</td>\n",
              "      <td>54.3</td>\n",
              "      <td>2824</td>\n",
              "      <td>ohc</td>\n",
              "      <td>five</td>\n",
              "      <td>136</td>\n",
              "      <td>mpfi</td>\n",
              "      <td>3.19</td>\n",
              "      <td>3.40</td>\n",
              "      <td>8.0</td>\n",
              "      <td>115</td>\n",
              "      <td>5500</td>\n",
              "      <td>18</td>\n",
              "      <td>22</td>\n",
              "      <td>17450</td>\n",
              "    </tr>\n",
              "  </tbody>\n",
              "</table>\n",
              "</div>"
            ],
            "text/plain": [
              "   symboling normalized-losses         make  ... city-mpg highway-mpg  price\n",
              "0          3                 ?  alfa-romero  ...       21          27  13495\n",
              "1          3                 ?  alfa-romero  ...       21          27  16500\n",
              "2          1                 ?  alfa-romero  ...       19          26  16500\n",
              "3          2               164         audi  ...       24          30  13950\n",
              "4          2               164         audi  ...       18          22  17450\n",
              "\n",
              "[5 rows x 26 columns]"
            ]
          },
          "metadata": {
            "tags": []
          },
          "execution_count": 130
        }
      ]
    },
    {
      "cell_type": "code",
      "metadata": {
        "id": "u54tVgq3equC",
        "outputId": "55b26f67-d22a-412b-f4bf-b6b968b09938",
        "colab": {
          "base_uri": "https://localhost:8080/",
          "height": 232
        }
      },
      "source": [
        "continuous_cols = ['normalized-losses','wheel-base','length','width','height',\n",
        "                   'curb-weight','engine-size','bore','stroke','compression-rate',\n",
        "                   'horsepower','peak-rpm','city-mpg','highway-mpg','price']\n",
        "\n",
        "numeric_cars = cars[continuous_cols]\n",
        "numeric_cars.head()"
      ],
      "execution_count": null,
      "outputs": [
        {
          "output_type": "execute_result",
          "data": {
            "text/html": [
              "<div>\n",
              "<style scoped>\n",
              "    .dataframe tbody tr th:only-of-type {\n",
              "        vertical-align: middle;\n",
              "    }\n",
              "\n",
              "    .dataframe tbody tr th {\n",
              "        vertical-align: top;\n",
              "    }\n",
              "\n",
              "    .dataframe thead th {\n",
              "        text-align: right;\n",
              "    }\n",
              "</style>\n",
              "<table border=\"1\" class=\"dataframe\">\n",
              "  <thead>\n",
              "    <tr style=\"text-align: right;\">\n",
              "      <th></th>\n",
              "      <th>normalized-losses</th>\n",
              "      <th>wheel-base</th>\n",
              "      <th>length</th>\n",
              "      <th>width</th>\n",
              "      <th>height</th>\n",
              "      <th>curb-weight</th>\n",
              "      <th>engine-size</th>\n",
              "      <th>bore</th>\n",
              "      <th>stroke</th>\n",
              "      <th>compression-rate</th>\n",
              "      <th>horsepower</th>\n",
              "      <th>peak-rpm</th>\n",
              "      <th>city-mpg</th>\n",
              "      <th>highway-mpg</th>\n",
              "      <th>price</th>\n",
              "    </tr>\n",
              "  </thead>\n",
              "  <tbody>\n",
              "    <tr>\n",
              "      <th>0</th>\n",
              "      <td>?</td>\n",
              "      <td>88.6</td>\n",
              "      <td>168.8</td>\n",
              "      <td>64.1</td>\n",
              "      <td>48.8</td>\n",
              "      <td>2548</td>\n",
              "      <td>130</td>\n",
              "      <td>3.47</td>\n",
              "      <td>2.68</td>\n",
              "      <td>9.0</td>\n",
              "      <td>111</td>\n",
              "      <td>5000</td>\n",
              "      <td>21</td>\n",
              "      <td>27</td>\n",
              "      <td>13495</td>\n",
              "    </tr>\n",
              "    <tr>\n",
              "      <th>1</th>\n",
              "      <td>?</td>\n",
              "      <td>88.6</td>\n",
              "      <td>168.8</td>\n",
              "      <td>64.1</td>\n",
              "      <td>48.8</td>\n",
              "      <td>2548</td>\n",
              "      <td>130</td>\n",
              "      <td>3.47</td>\n",
              "      <td>2.68</td>\n",
              "      <td>9.0</td>\n",
              "      <td>111</td>\n",
              "      <td>5000</td>\n",
              "      <td>21</td>\n",
              "      <td>27</td>\n",
              "      <td>16500</td>\n",
              "    </tr>\n",
              "    <tr>\n",
              "      <th>2</th>\n",
              "      <td>?</td>\n",
              "      <td>94.5</td>\n",
              "      <td>171.2</td>\n",
              "      <td>65.5</td>\n",
              "      <td>52.4</td>\n",
              "      <td>2823</td>\n",
              "      <td>152</td>\n",
              "      <td>2.68</td>\n",
              "      <td>3.47</td>\n",
              "      <td>9.0</td>\n",
              "      <td>154</td>\n",
              "      <td>5000</td>\n",
              "      <td>19</td>\n",
              "      <td>26</td>\n",
              "      <td>16500</td>\n",
              "    </tr>\n",
              "    <tr>\n",
              "      <th>3</th>\n",
              "      <td>164</td>\n",
              "      <td>99.8</td>\n",
              "      <td>176.6</td>\n",
              "      <td>66.2</td>\n",
              "      <td>54.3</td>\n",
              "      <td>2337</td>\n",
              "      <td>109</td>\n",
              "      <td>3.19</td>\n",
              "      <td>3.40</td>\n",
              "      <td>10.0</td>\n",
              "      <td>102</td>\n",
              "      <td>5500</td>\n",
              "      <td>24</td>\n",
              "      <td>30</td>\n",
              "      <td>13950</td>\n",
              "    </tr>\n",
              "    <tr>\n",
              "      <th>4</th>\n",
              "      <td>164</td>\n",
              "      <td>99.4</td>\n",
              "      <td>176.6</td>\n",
              "      <td>66.4</td>\n",
              "      <td>54.3</td>\n",
              "      <td>2824</td>\n",
              "      <td>136</td>\n",
              "      <td>3.19</td>\n",
              "      <td>3.40</td>\n",
              "      <td>8.0</td>\n",
              "      <td>115</td>\n",
              "      <td>5500</td>\n",
              "      <td>18</td>\n",
              "      <td>22</td>\n",
              "      <td>17450</td>\n",
              "    </tr>\n",
              "  </tbody>\n",
              "</table>\n",
              "</div>"
            ],
            "text/plain": [
              "  normalized-losses  wheel-base  length  ...  city-mpg  highway-mpg  price\n",
              "0                 ?        88.6   168.8  ...        21           27  13495\n",
              "1                 ?        88.6   168.8  ...        21           27  16500\n",
              "2                 ?        94.5   171.2  ...        19           26  16500\n",
              "3               164        99.8   176.6  ...        24           30  13950\n",
              "4               164        99.4   176.6  ...        18           22  17450\n",
              "\n",
              "[5 rows x 15 columns]"
            ]
          },
          "metadata": {
            "tags": []
          },
          "execution_count": 131
        }
      ]
    },
    {
      "cell_type": "markdown",
      "metadata": {
        "id": "HsmbH303y5wE"
      },
      "source": [
        "## Data Cleaning"
      ]
    },
    {
      "cell_type": "code",
      "metadata": {
        "id": "fF7T-ykP0cfR",
        "outputId": "1ef2839c-90ff-4edd-cc92-b6c9f195c4ac",
        "colab": {
          "base_uri": "https://localhost:8080/",
          "height": 232
        }
      },
      "source": [
        "numeric_cars = numeric_cars.replace('?', np.nan)\n",
        "numeric_cars.head()"
      ],
      "execution_count": null,
      "outputs": [
        {
          "output_type": "execute_result",
          "data": {
            "text/html": [
              "<div>\n",
              "<style scoped>\n",
              "    .dataframe tbody tr th:only-of-type {\n",
              "        vertical-align: middle;\n",
              "    }\n",
              "\n",
              "    .dataframe tbody tr th {\n",
              "        vertical-align: top;\n",
              "    }\n",
              "\n",
              "    .dataframe thead th {\n",
              "        text-align: right;\n",
              "    }\n",
              "</style>\n",
              "<table border=\"1\" class=\"dataframe\">\n",
              "  <thead>\n",
              "    <tr style=\"text-align: right;\">\n",
              "      <th></th>\n",
              "      <th>normalized-losses</th>\n",
              "      <th>wheel-base</th>\n",
              "      <th>length</th>\n",
              "      <th>width</th>\n",
              "      <th>height</th>\n",
              "      <th>curb-weight</th>\n",
              "      <th>engine-size</th>\n",
              "      <th>bore</th>\n",
              "      <th>stroke</th>\n",
              "      <th>compression-rate</th>\n",
              "      <th>horsepower</th>\n",
              "      <th>peak-rpm</th>\n",
              "      <th>city-mpg</th>\n",
              "      <th>highway-mpg</th>\n",
              "      <th>price</th>\n",
              "    </tr>\n",
              "  </thead>\n",
              "  <tbody>\n",
              "    <tr>\n",
              "      <th>0</th>\n",
              "      <td>NaN</td>\n",
              "      <td>88.6</td>\n",
              "      <td>168.8</td>\n",
              "      <td>64.1</td>\n",
              "      <td>48.8</td>\n",
              "      <td>2548</td>\n",
              "      <td>130</td>\n",
              "      <td>3.47</td>\n",
              "      <td>2.68</td>\n",
              "      <td>9.0</td>\n",
              "      <td>111</td>\n",
              "      <td>5000</td>\n",
              "      <td>21</td>\n",
              "      <td>27</td>\n",
              "      <td>13495</td>\n",
              "    </tr>\n",
              "    <tr>\n",
              "      <th>1</th>\n",
              "      <td>NaN</td>\n",
              "      <td>88.6</td>\n",
              "      <td>168.8</td>\n",
              "      <td>64.1</td>\n",
              "      <td>48.8</td>\n",
              "      <td>2548</td>\n",
              "      <td>130</td>\n",
              "      <td>3.47</td>\n",
              "      <td>2.68</td>\n",
              "      <td>9.0</td>\n",
              "      <td>111</td>\n",
              "      <td>5000</td>\n",
              "      <td>21</td>\n",
              "      <td>27</td>\n",
              "      <td>16500</td>\n",
              "    </tr>\n",
              "    <tr>\n",
              "      <th>2</th>\n",
              "      <td>NaN</td>\n",
              "      <td>94.5</td>\n",
              "      <td>171.2</td>\n",
              "      <td>65.5</td>\n",
              "      <td>52.4</td>\n",
              "      <td>2823</td>\n",
              "      <td>152</td>\n",
              "      <td>2.68</td>\n",
              "      <td>3.47</td>\n",
              "      <td>9.0</td>\n",
              "      <td>154</td>\n",
              "      <td>5000</td>\n",
              "      <td>19</td>\n",
              "      <td>26</td>\n",
              "      <td>16500</td>\n",
              "    </tr>\n",
              "    <tr>\n",
              "      <th>3</th>\n",
              "      <td>164</td>\n",
              "      <td>99.8</td>\n",
              "      <td>176.6</td>\n",
              "      <td>66.2</td>\n",
              "      <td>54.3</td>\n",
              "      <td>2337</td>\n",
              "      <td>109</td>\n",
              "      <td>3.19</td>\n",
              "      <td>3.40</td>\n",
              "      <td>10.0</td>\n",
              "      <td>102</td>\n",
              "      <td>5500</td>\n",
              "      <td>24</td>\n",
              "      <td>30</td>\n",
              "      <td>13950</td>\n",
              "    </tr>\n",
              "    <tr>\n",
              "      <th>4</th>\n",
              "      <td>164</td>\n",
              "      <td>99.4</td>\n",
              "      <td>176.6</td>\n",
              "      <td>66.4</td>\n",
              "      <td>54.3</td>\n",
              "      <td>2824</td>\n",
              "      <td>136</td>\n",
              "      <td>3.19</td>\n",
              "      <td>3.40</td>\n",
              "      <td>8.0</td>\n",
              "      <td>115</td>\n",
              "      <td>5500</td>\n",
              "      <td>18</td>\n",
              "      <td>22</td>\n",
              "      <td>17450</td>\n",
              "    </tr>\n",
              "  </tbody>\n",
              "</table>\n",
              "</div>"
            ],
            "text/plain": [
              "  normalized-losses  wheel-base  length  ...  city-mpg  highway-mpg  price\n",
              "0               NaN        88.6   168.8  ...        21           27  13495\n",
              "1               NaN        88.6   168.8  ...        21           27  16500\n",
              "2               NaN        94.5   171.2  ...        19           26  16500\n",
              "3               164        99.8   176.6  ...        24           30  13950\n",
              "4               164        99.4   176.6  ...        18           22  17450\n",
              "\n",
              "[5 rows x 15 columns]"
            ]
          },
          "metadata": {
            "tags": []
          },
          "execution_count": 132
        }
      ]
    },
    {
      "cell_type": "code",
      "metadata": {
        "id": "QdDeY-mSs2gh",
        "outputId": "1b87ea58-569f-4ae2-feb0-91856bdac70f",
        "colab": {
          "base_uri": "https://localhost:8080/"
        }
      },
      "source": [
        "# Transform non numerical columns to numeric type\n",
        "numeric_cars = numeric_cars.astype('float')\n",
        "numeric_cars.isnull().sum()"
      ],
      "execution_count": null,
      "outputs": [
        {
          "output_type": "execute_result",
          "data": {
            "text/plain": [
              "normalized-losses    41\n",
              "wheel-base            0\n",
              "length                0\n",
              "width                 0\n",
              "height                0\n",
              "curb-weight           0\n",
              "engine-size           0\n",
              "bore                  4\n",
              "stroke                4\n",
              "compression-rate      0\n",
              "horsepower            2\n",
              "peak-rpm              2\n",
              "city-mpg              0\n",
              "highway-mpg           0\n",
              "price                 4\n",
              "dtype: int64"
            ]
          },
          "metadata": {
            "tags": []
          },
          "execution_count": 133
        }
      ]
    },
    {
      "cell_type": "code",
      "metadata": {
        "id": "5bKEEs3_6frJ",
        "outputId": "8ac6923b-56ce-437e-f5b2-3b737d66094b",
        "colab": {
          "base_uri": "https://localhost:8080/"
        }
      },
      "source": [
        "# Delete the lines where the price is missing using dropna()\n",
        "numeric_cars = numeric_cars.dropna(subset=['price'])\n",
        "numeric_cars.isnull().sum()"
      ],
      "execution_count": null,
      "outputs": [
        {
          "output_type": "execute_result",
          "data": {
            "text/plain": [
              "normalized-losses    37\n",
              "wheel-base            0\n",
              "length                0\n",
              "width                 0\n",
              "height                0\n",
              "curb-weight           0\n",
              "engine-size           0\n",
              "bore                  4\n",
              "stroke                4\n",
              "compression-rate      0\n",
              "horsepower            2\n",
              "peak-rpm              2\n",
              "city-mpg              0\n",
              "highway-mpg           0\n",
              "price                 0\n",
              "dtype: int64"
            ]
          },
          "metadata": {
            "tags": []
          },
          "execution_count": 134
        }
      ]
    },
    {
      "cell_type": "code",
      "metadata": {
        "id": "qulrBWS069cj",
        "outputId": "4aa5af00-31ee-4c54-aff9-6b43fea07283",
        "colab": {
          "base_uri": "https://localhost:8080/"
        }
      },
      "source": [
        "# fill missing values with mean using fillna()\n",
        "numeric_cars = numeric_cars.fillna(numeric_cars.mean())\n",
        "numeric_cars.isnull().sum()"
      ],
      "execution_count": null,
      "outputs": [
        {
          "output_type": "execute_result",
          "data": {
            "text/plain": [
              "normalized-losses    0\n",
              "wheel-base           0\n",
              "length               0\n",
              "width                0\n",
              "height               0\n",
              "curb-weight          0\n",
              "engine-size          0\n",
              "bore                 0\n",
              "stroke               0\n",
              "compression-rate     0\n",
              "horsepower           0\n",
              "peak-rpm             0\n",
              "city-mpg             0\n",
              "highway-mpg          0\n",
              "price                0\n",
              "dtype: int64"
            ]
          },
          "metadata": {
            "tags": []
          },
          "execution_count": 135
        }
      ]
    },
    {
      "cell_type": "code",
      "metadata": {
        "id": "_hLqHP-73dOH",
        "outputId": "19b03ce2-b7a4-4d10-8a6b-eaf74e26d740",
        "colab": {
          "base_uri": "https://localhost:8080/",
          "height": 232
        }
      },
      "source": [
        "# Normalize columns except target column 'price'\n",
        "price_col = numeric_cars['price']\n",
        "\n",
        "numeric_cars = (numeric_cars - numeric_cars.min())/(numeric_cars.max() - numeric_cars.min())\n",
        "numeric_cars['price'] = price_col\n",
        "\n",
        "numeric_cars.head()"
      ],
      "execution_count": null,
      "outputs": [
        {
          "output_type": "execute_result",
          "data": {
            "text/html": [
              "<div>\n",
              "<style scoped>\n",
              "    .dataframe tbody tr th:only-of-type {\n",
              "        vertical-align: middle;\n",
              "    }\n",
              "\n",
              "    .dataframe tbody tr th {\n",
              "        vertical-align: top;\n",
              "    }\n",
              "\n",
              "    .dataframe thead th {\n",
              "        text-align: right;\n",
              "    }\n",
              "</style>\n",
              "<table border=\"1\" class=\"dataframe\">\n",
              "  <thead>\n",
              "    <tr style=\"text-align: right;\">\n",
              "      <th></th>\n",
              "      <th>normalized-losses</th>\n",
              "      <th>wheel-base</th>\n",
              "      <th>length</th>\n",
              "      <th>width</th>\n",
              "      <th>height</th>\n",
              "      <th>curb-weight</th>\n",
              "      <th>engine-size</th>\n",
              "      <th>bore</th>\n",
              "      <th>stroke</th>\n",
              "      <th>compression-rate</th>\n",
              "      <th>horsepower</th>\n",
              "      <th>peak-rpm</th>\n",
              "      <th>city-mpg</th>\n",
              "      <th>highway-mpg</th>\n",
              "      <th>price</th>\n",
              "    </tr>\n",
              "  </thead>\n",
              "  <tbody>\n",
              "    <tr>\n",
              "      <th>0</th>\n",
              "      <td>0.298429</td>\n",
              "      <td>0.058309</td>\n",
              "      <td>0.413433</td>\n",
              "      <td>0.324786</td>\n",
              "      <td>0.083333</td>\n",
              "      <td>0.411171</td>\n",
              "      <td>0.260377</td>\n",
              "      <td>0.664286</td>\n",
              "      <td>0.290476</td>\n",
              "      <td>0.1250</td>\n",
              "      <td>0.294393</td>\n",
              "      <td>0.346939</td>\n",
              "      <td>0.222222</td>\n",
              "      <td>0.289474</td>\n",
              "      <td>13495.0</td>\n",
              "    </tr>\n",
              "    <tr>\n",
              "      <th>1</th>\n",
              "      <td>0.298429</td>\n",
              "      <td>0.058309</td>\n",
              "      <td>0.413433</td>\n",
              "      <td>0.324786</td>\n",
              "      <td>0.083333</td>\n",
              "      <td>0.411171</td>\n",
              "      <td>0.260377</td>\n",
              "      <td>0.664286</td>\n",
              "      <td>0.290476</td>\n",
              "      <td>0.1250</td>\n",
              "      <td>0.294393</td>\n",
              "      <td>0.346939</td>\n",
              "      <td>0.222222</td>\n",
              "      <td>0.289474</td>\n",
              "      <td>16500.0</td>\n",
              "    </tr>\n",
              "    <tr>\n",
              "      <th>2</th>\n",
              "      <td>0.298429</td>\n",
              "      <td>0.230321</td>\n",
              "      <td>0.449254</td>\n",
              "      <td>0.444444</td>\n",
              "      <td>0.383333</td>\n",
              "      <td>0.517843</td>\n",
              "      <td>0.343396</td>\n",
              "      <td>0.100000</td>\n",
              "      <td>0.666667</td>\n",
              "      <td>0.1250</td>\n",
              "      <td>0.495327</td>\n",
              "      <td>0.346939</td>\n",
              "      <td>0.166667</td>\n",
              "      <td>0.263158</td>\n",
              "      <td>16500.0</td>\n",
              "    </tr>\n",
              "    <tr>\n",
              "      <th>3</th>\n",
              "      <td>0.518325</td>\n",
              "      <td>0.384840</td>\n",
              "      <td>0.529851</td>\n",
              "      <td>0.504274</td>\n",
              "      <td>0.541667</td>\n",
              "      <td>0.329325</td>\n",
              "      <td>0.181132</td>\n",
              "      <td>0.464286</td>\n",
              "      <td>0.633333</td>\n",
              "      <td>0.1875</td>\n",
              "      <td>0.252336</td>\n",
              "      <td>0.551020</td>\n",
              "      <td>0.305556</td>\n",
              "      <td>0.368421</td>\n",
              "      <td>13950.0</td>\n",
              "    </tr>\n",
              "    <tr>\n",
              "      <th>4</th>\n",
              "      <td>0.518325</td>\n",
              "      <td>0.373178</td>\n",
              "      <td>0.529851</td>\n",
              "      <td>0.521368</td>\n",
              "      <td>0.541667</td>\n",
              "      <td>0.518231</td>\n",
              "      <td>0.283019</td>\n",
              "      <td>0.464286</td>\n",
              "      <td>0.633333</td>\n",
              "      <td>0.0625</td>\n",
              "      <td>0.313084</td>\n",
              "      <td>0.551020</td>\n",
              "      <td>0.138889</td>\n",
              "      <td>0.157895</td>\n",
              "      <td>17450.0</td>\n",
              "    </tr>\n",
              "  </tbody>\n",
              "</table>\n",
              "</div>"
            ],
            "text/plain": [
              "   normalized-losses  wheel-base    length  ...  city-mpg  highway-mpg    price\n",
              "0           0.298429    0.058309  0.413433  ...  0.222222     0.289474  13495.0\n",
              "1           0.298429    0.058309  0.413433  ...  0.222222     0.289474  16500.0\n",
              "2           0.298429    0.230321  0.449254  ...  0.166667     0.263158  16500.0\n",
              "3           0.518325    0.384840  0.529851  ...  0.305556     0.368421  13950.0\n",
              "4           0.518325    0.373178  0.529851  ...  0.138889     0.157895  17450.0\n",
              "\n",
              "[5 rows x 15 columns]"
            ]
          },
          "metadata": {
            "tags": []
          },
          "execution_count": 136
        }
      ]
    },
    {
      "cell_type": "markdown",
      "metadata": {
        "id": "xtnx2ZrY2sMr"
      },
      "source": [
        "Modèle univarié"
      ]
    },
    {
      "cell_type": "code",
      "metadata": {
        "id": "7D5lh6tIz3XG"
      },
      "source": [
        "from sklearn.metrics import mean_squared_error\n",
        "from sklearn.neighbors import KNeighborsRegressor\n",
        "\n",
        "## First fuction calculates the rmse values for default k (k=5)\n",
        "def knn_train_test(df, learn_col, target_col):\n",
        "  knn = KNeighborsRegressor()\n",
        "  np.random.seed(0)\n",
        "# Randomize the order of our data\n",
        "  shuffled_index = np.random.permutation(len(df.index))\n",
        "  rand_df = df.reindex(shuffled_index)\n",
        "# Split the data into two equal parts :\n",
        "  last_train_row = int(len(rand_df) / 2)\n",
        "  train_df = df.iloc[0:last_train_row]\n",
        "  test_df  = df.iloc[last_train_row :]\n",
        "# Fit our model to the data :\n",
        "  knn.fit(train_df[[learn_col]], train_df[target_col])\n",
        "# Predict new values :\n",
        "  predictions = knn.predict(test_df[[learn_col]])\n",
        "# Calculate the metrics mse and then rmse :\n",
        "  mse = mean_squared_error(test_df[target_col], predictions)\n",
        "  rmse = np.sqrt(mse)\n",
        "\n",
        "  return rmse"
      ],
      "execution_count": null,
      "outputs": []
    },
    {
      "cell_type": "code",
      "metadata": {
        "id": "0YXLVyehZC9w",
        "outputId": "07dbc6de-1083-4dfa-f88d-b42442c658a9",
        "colab": {
          "base_uri": "https://localhost:8080/"
        }
      },
      "source": [
        "rmse_results = {}\n",
        "train_cols = numeric_cars.columns.drop('price')\n",
        "\n",
        "# claculate rmse for each column and assign it to the \n",
        "# rmse_results dictionary\n",
        "\n",
        "for col in train_cols:\n",
        "  rmse_val = knn_train_test(numeric_cars, col, 'price')\n",
        "  rmse_results[col] = rmse_val\n",
        "\n",
        "rmse_results_series = pd.Series(rmse_results)\n",
        "rmse_results_series.sort_values()"
      ],
      "execution_count": null,
      "outputs": [
        {
          "output_type": "execute_result",
          "data": {
            "text/plain": [
              "engine-size           4190.433888\n",
              "horsepower            4267.730361\n",
              "highway-mpg           4628.793094\n",
              "city-mpg              4814.778015\n",
              "curb-weight           5166.828581\n",
              "width                 7110.412630\n",
              "compression-rate      8096.301512\n",
              "normalized-losses     8131.436882\n",
              "length                8304.189346\n",
              "stroke                9334.714914\n",
              "peak-rpm              9759.209970\n",
              "wheel-base            9969.243292\n",
              "height               10839.693636\n",
              "bore                 13397.091693\n",
              "dtype: float64"
            ]
          },
          "metadata": {
            "tags": []
          },
          "execution_count": 138
        }
      ]
    },
    {
      "cell_type": "code",
      "metadata": {
        "id": "CZK5qyj9ajKa"
      },
      "source": [
        "## Second function calculates rmse for different values of k\n",
        "\n",
        "def knn_train_test2(df, learn_col, target_col):\n",
        "  np.random.seed(0)\n",
        "\n",
        "# Randomize the order of our data\n",
        "  shuffled_index = np.random.permutation(len(df.index))\n",
        "  rand_df = df.reindex(shuffled_index)\n",
        "# Split the data into two equal parts :\n",
        "  last_train_row = int(len(rand_df) / 2)\n",
        "  train_df = df.iloc[0:last_train_row]\n",
        "  test_df  = df.iloc[last_train_row :]\n",
        "\n",
        "  k_values = [1, 3, 5, 7, 9]\n",
        "  k_rmses = {}\n",
        "\n",
        "  for k in k_values :\n",
        "    knn = KNeighborsRegressor(n_neighbors=k,)\n",
        "# Fit our model to the data :\n",
        "    knn.fit(train_df[[learn_col]], train_df[target_col])\n",
        "# Predict new values :\n",
        "    predictions = knn.predict(test_df[[learn_col]])\n",
        "# Calculate the metrics mse and then rmse :\n",
        "    mse = mean_squared_error(test_df[target_col], predictions)\n",
        "    rmse = np.sqrt(mse)\n",
        "\n",
        "    k_rmses[k] = rmse\n",
        "  return k_rmses"
      ],
      "execution_count": null,
      "outputs": []
    },
    {
      "cell_type": "code",
      "metadata": {
        "id": "xoAN1Os4cI_t",
        "outputId": "df686551-b6b1-4944-9d0c-e1aa35526df4",
        "colab": {
          "base_uri": "https://localhost:8080/"
        }
      },
      "source": [
        "feature_k_rmse_results = {}\n",
        "\n",
        "train_cols = numeric_cars.columns.drop('price')\n",
        "\n",
        "for col in train_cols:\n",
        "  rmse_val = knn_train_test2(numeric_cars, col, 'price')\n",
        "  feature_k_rmse_results[col] = rmse_val\n",
        "\n",
        "feature_k_rmse_results"
      ],
      "execution_count": null,
      "outputs": [
        {
          "output_type": "execute_result",
          "data": {
            "text/plain": [
              "{'bore': {1: 16502.858944335483,\n",
              "  3: 13895.11178798717,\n",
              "  5: 13397.091693481998,\n",
              "  7: 11075.156453540423,\n",
              "  9: 10178.905997122287},\n",
              " 'city-mpg': {1: 5347.150261662008,\n",
              "  3: 5210.2611302222185,\n",
              "  5: 4814.77801484941,\n",
              "  7: 4575.950005056604,\n",
              "  9: 4770.344178922603},\n",
              " 'compression-rate': {1: 8085.605142155501,\n",
              "  3: 8137.969725694832,\n",
              "  5: 8096.301512113387,\n",
              "  7: 7896.692870779086,\n",
              "  9: 7823.115528549677},\n",
              " 'curb-weight': {1: 6566.749175404316,\n",
              "  3: 5635.184748392448,\n",
              "  5: 5166.828580646175,\n",
              "  7: 5239.631250704795,\n",
              "  9: 5244.5555635847895},\n",
              " 'engine-size': {1: 5338.7918201602415,\n",
              "  3: 4698.501673022703,\n",
              "  5: 4190.43388788236,\n",
              "  7: 4114.571307788718,\n",
              "  9: 4056.629359658438},\n",
              " 'height': {1: 13032.276289928392,\n",
              "  3: 11411.019683044135,\n",
              "  5: 10839.693635873846,\n",
              "  7: 10041.327943738908,\n",
              "  9: 9313.330965281266},\n",
              " 'highway-mpg': {1: 5188.333470202142,\n",
              "  3: 4655.081481516726,\n",
              "  5: 4628.7930938146865,\n",
              "  7: 4112.387802956751,\n",
              "  9: 4029.9622707968324},\n",
              " 'horsepower': {1: 7027.606971265131,\n",
              "  3: 5400.929793235897,\n",
              "  5: 4267.730361029788,\n",
              "  7: 3821.376566368764,\n",
              "  9: 3461.132024333479},\n",
              " 'length': {1: 10053.579063701594,\n",
              "  3: 8230.050248540974,\n",
              "  5: 8304.189346264562,\n",
              "  7: 8483.928913734228,\n",
              "  9: 7655.12304417215},\n",
              " 'normalized-losses': {1: 11628.904782718988,\n",
              "  3: 9578.793245190305,\n",
              "  5: 8131.436882072488,\n",
              "  7: 7441.814253467208,\n",
              "  9: 7644.0837748147915},\n",
              " 'peak-rpm': {1: 10914.812292757884,\n",
              "  3: 11280.73983419619,\n",
              "  5: 9759.209969770063,\n",
              "  7: 9392.829861131397,\n",
              "  9: 9423.925545439102},\n",
              " 'stroke': {1: 10925.953215320224,\n",
              "  3: 11848.331671515607,\n",
              "  5: 9334.714914185055,\n",
              "  7: 8255.343109791127,\n",
              "  9: 7516.859170151421},\n",
              " 'wheel-base': {1: 8052.050206913359,\n",
              "  3: 9171.153878561105,\n",
              "  5: 9969.243291700175,\n",
              "  7: 8938.808809133783,\n",
              "  9: 8637.3043859821},\n",
              " 'width': {1: 8044.1444455819,\n",
              "  3: 7234.558219432825,\n",
              "  5: 7110.412630045104,\n",
              "  7: 6621.848358316696,\n",
              "  9: 6531.417638109127}}"
            ]
          },
          "metadata": {
            "tags": []
          },
          "execution_count": 140
        }
      ]
    },
    {
      "cell_type": "code",
      "metadata": {
        "id": "Z6mAc44idFtq",
        "outputId": "bbfe0733-f1cc-4d10-b60c-91d19f95f192",
        "colab": {
          "base_uri": "https://localhost:8080/",
          "height": 1000
        }
      },
      "source": [
        "import matplotlib.pyplot as plt\n",
        "%matplotlib inline\n",
        "\n",
        "best_features = {}\n",
        "plt.figure(figsize=(10, 12))\n",
        "\n",
        "for key, value in feature_k_rmse_results.items():\n",
        "  x = list(value.keys())\n",
        "  y = list(value.values())\n",
        "\n",
        "  order = np.argsort(x)\n",
        "  x_ordered = np.array(x)[order]\n",
        "  y_ordered = np.array(y)[order]\n",
        "  print(key)\n",
        "  print('average_rmses: '+ str(np.mean(y)))\n",
        "  best_features[key] = np.mean(y)\n",
        "\n",
        "  plt.plot(x_ordered, y_ordered, label= key)\n",
        "  plt.xlabel('k_value')\n",
        "  plt.ylabel('RMSE')\n",
        "\n",
        "plt.legend()\n",
        "plt.show()"
      ],
      "execution_count": null,
      "outputs": [
        {
          "output_type": "stream",
          "text": [
            "normalized-losses\n",
            "average_rmses: 8885.006587652755\n",
            "wheel-base\n",
            "average_rmses: 8953.712114458103\n",
            "length\n",
            "average_rmses: 8545.374123282701\n",
            "width\n",
            "average_rmses: 7108.476258297131\n",
            "height\n",
            "average_rmses: 10927.52970357331\n",
            "curb-weight\n",
            "average_rmses: 5570.589863746504\n",
            "engine-size\n",
            "average_rmses: 4479.7856097024915\n",
            "bore\n",
            "average_rmses: 13009.824975293473\n",
            "stroke\n",
            "average_rmses: 9576.240416192688\n",
            "compression-rate\n",
            "average_rmses: 8007.936955858497\n",
            "horsepower\n",
            "average_rmses: 4795.755143246612\n",
            "peak-rpm\n",
            "average_rmses: 10154.303500658927\n",
            "city-mpg\n",
            "average_rmses: 4943.696718142568\n",
            "highway-mpg\n",
            "average_rmses: 4522.911623857427\n"
          ],
          "name": "stdout"
        },
        {
          "output_type": "display_data",
          "data": {
            "image/png": "[encoded data removed]",
            "text/plain": [
              "<Figure size 720x864 with 1 Axes>"
            ]
          },
          "metadata": {
            "tags": [],
            "needs_background": "light"
          }
        }
      ]
    },
    {
      "cell_type": "code",
      "metadata": {
        "id": "_FYXLccDepeQ",
        "outputId": "31d1b4ee-9f1c-4b20-d2be-cfc2c7c301a2",
        "colab": {
          "base_uri": "https://localhost:8080/"
        }
      },
      "source": [
        "sorted_features_list = sorted(best_features, key=best_features.get)\n",
        "sorted_features_list"
      ],
      "execution_count": null,
      "outputs": [
        {
          "output_type": "execute_result",
          "data": {
            "text/plain": [
              "['engine-size',\n",
              " 'highway-mpg',\n",
              " 'horsepower',\n",
              " 'city-mpg',\n",
              " 'curb-weight',\n",
              " 'width',\n",
              " 'compression-rate',\n",
              " 'length',\n",
              " 'normalized-losses',\n",
              " 'wheel-base',\n",
              " 'stroke',\n",
              " 'peak-rpm',\n",
              " 'height',\n",
              " 'bore']"
            ]
          },
          "metadata": {
            "tags": []
          },
          "execution_count": 142
        }
      ]
    },
    {
      "cell_type": "markdown",
      "metadata": {
        "id": "1yna1higfmtR"
      },
      "source": [
        "Modèle multivarié"
      ]
    },
    {
      "cell_type": "code",
      "metadata": {
        "id": "uBYBVQcUfIsA"
      },
      "source": [
        "## Third fuction calculates the rmse values for default k (k=5)\n",
        "## with many columns as parameter\n",
        "liste_col = []\n",
        "def knn_train_test3(df, liste_col , target_col):\n",
        "  knn = KNeighborsRegressor()\n",
        "  np.random.seed(0)\n",
        "# Randomize the order of our data\n",
        "  shuffled_index = np.random.permutation(len(df.index))\n",
        "  rand_df = df.reindex(shuffled_index)\n",
        "# Split the data into two equal parts :\n",
        "  last_train_row = int(len(rand_df) / 2)\n",
        "  train_df = df.iloc[0:last_train_row]\n",
        "  test_df  = df.iloc[last_train_row :]\n",
        "# Fit our model to the data :\n",
        "  knn.fit(train_df[liste_col], train_df[target_col])\n",
        "# Predict new values :\n",
        "  predictions = knn.predict(test_df[liste_col])\n",
        "# Calculate the metrics mse and then rmse :\n",
        "  mse = mean_squared_error(test_df[target_col], predictions)\n",
        "  rmse = np.sqrt(mse)\n",
        "\n",
        "  return rmse"
      ],
      "execution_count": null,
      "outputs": []
    },
    {
      "cell_type": "code",
      "metadata": {
        "id": "ndRYj0CXPClV",
        "outputId": "18159c1b-a386-4039-bd39-804f85be60c1",
        "colab": {
          "base_uri": "https://localhost:8080/"
        }
      },
      "source": [
        "k_rmse_features = {}\n",
        "k_rmse_features['rmse_two'] = knn_train_test3(numeric_cars, sorted_features_list[0:2], 'price')\n",
        "\n",
        "k_rmse_features['rmse_three']= knn_train_test3(numeric_cars,sorted_features_list[0:3], 'price')\n",
        "\n",
        "k_rmse_features['rmse_four'] = knn_train_test3(numeric_cars, sorted_features_list[0:4], 'price')\n",
        "\n",
        "k_rmse_features['rmse_five'] = knn_train_test3(numeric_cars, sorted_features_list[0:5], 'price')\n",
        "\n",
        "k_rmse_features['rmse_six'] = knn_train_test3(numeric_cars,  sorted_features_list[0:6], 'price')\n",
        "\n",
        "k_rmse_features"
      ],
      "execution_count": null,
      "outputs": [
        {
          "output_type": "execute_result",
          "data": {
            "text/plain": [
              "{'rmse_five': 3874.8264102159374,\n",
              " 'rmse_four': 3543.6021088353828,\n",
              " 'rmse_six': 4425.238850587895,\n",
              " 'rmse_three': 3553.981440358945,\n",
              " 'rmse_two': 4350.739368552121}"
            ]
          },
          "metadata": {
            "tags": []
          },
          "execution_count": 144
        }
      ]
    },
    {
      "cell_type": "markdown",
      "metadata": {
        "id": "xcssrTGiSD5a"
      },
      "source": [
        "Variation des hyper paramètres"
      ]
    },
    {
      "cell_type": "code",
      "metadata": {
        "id": "QlyxyatJSCzC"
      },
      "source": [
        "k_values = [x for x in range(1, 25)]\n",
        "k_rmses = {}\n",
        "\n",
        "## Fourth fuction calculates the rmse values for\n",
        "## different values of k with many columns as parameter\n",
        "liste_col = []\n",
        "def knn_train_test4(df, liste_cols , target_col):\n",
        "\n",
        "  np.random.seed(0)\n",
        "# Randomize the order of our data\n",
        "  shuffled_index = np.random.permutation(len(df.index))\n",
        "  rand_df = df.reindex(shuffled_index)\n",
        "# Split the data into two equal parts :\n",
        "  last_train_row = int(len(rand_df) / 2)\n",
        "  train_df = df.iloc[0:last_train_row]\n",
        "  test_df  = df.iloc[last_train_row :]\n",
        "\n",
        "  for k in k_values:\n",
        "    knn = KNeighborsRegressor(n_neighbors= k)\n",
        "# Fit our model to the data :\n",
        "    knn.fit(train_df[liste_cols], train_df[target_col])\n",
        "# Predict new values :\n",
        "    predictions = knn.predict(test_df[liste_cols])\n",
        "# Calculate the metrics mse and then rmse :\n",
        "    mse = mean_squared_error(test_df[target_col], predictions)\n",
        "    rmse = np.sqrt(mse)\n",
        "    \n",
        "    k_rmses[k] = rmse\n",
        "  return k_rmses\n"
      ],
      "execution_count": null,
      "outputs": []
    },
    {
      "cell_type": "code",
      "metadata": {
        "id": "elLbKzf3cRf2",
        "outputId": "27dc5a20-5fd7-43d8-9e63-20541d250cd4",
        "colab": {
          "base_uri": "https://localhost:8080/"
        }
      },
      "source": [
        "features = [sorted_features_list[0:2], sorted_features_list[0:3], sorted_features_list[0:4]]\n",
        "k_rmses_results = {}\n",
        "\n",
        "k_rmses_results['best_three_features'] = knn_train_test4(numeric_cars, sorted_features_list[0:2], 'price')\n",
        "k_rmses_results['best_four_features'] = knn_train_test4(numeric_cars, sorted_features_list[0:3], 'price')\n",
        "k_rmses_results['best_five_features'] = knn_train_test4(numeric_cars, sorted_features_list[0:4], 'price')\n",
        "\n",
        "k_rmses_results"
      ],
      "execution_count": null,
      "outputs": [
        {
          "output_type": "execute_result",
          "data": {
            "text/plain": [
              "{'best_five_features': {1: 4003.9828413792443,\n",
              "  2: 4131.951959131938,\n",
              "  3: 3807.458087636542,\n",
              "  4: 3645.9482887864647,\n",
              "  5: 3543.6021088353828,\n",
              "  6: 3462.33319634914,\n",
              "  7: 3381.3053052910514,\n",
              "  8: 3221.8924875642992,\n",
              "  9: 3020.3504183783566,\n",
              "  10: 3082.8858075793623,\n",
              "  11: 3203.3271940951367,\n",
              "  12: 3320.32157031635,\n",
              "  13: 3480.138098268782,\n",
              "  14: 3483.163466888698,\n",
              "  15: 3488.2073831867865,\n",
              "  16: 3460.6885466860917,\n",
              "  17: 3420.7342053495818,\n",
              "  18: 3380.3570582571792,\n",
              "  19: 3379.807908444524,\n",
              "  20: 3386.3950236041705,\n",
              "  21: 3354.438473986951,\n",
              "  22: 3356.3575258604455,\n",
              "  23: 3360.720166186331,\n",
              "  24: 3363.297072238637},\n",
              " 'best_four_features': {1: 4003.9828413792443,\n",
              "  2: 4131.951959131938,\n",
              "  3: 3807.458087636542,\n",
              "  4: 3645.9482887864647,\n",
              "  5: 3543.6021088353828,\n",
              "  6: 3462.33319634914,\n",
              "  7: 3381.3053052910514,\n",
              "  8: 3221.8924875642992,\n",
              "  9: 3020.3504183783566,\n",
              "  10: 3082.8858075793623,\n",
              "  11: 3203.3271940951367,\n",
              "  12: 3320.32157031635,\n",
              "  13: 3480.138098268782,\n",
              "  14: 3483.163466888698,\n",
              "  15: 3488.2073831867865,\n",
              "  16: 3460.6885466860917,\n",
              "  17: 3420.7342053495818,\n",
              "  18: 3380.3570582571792,\n",
              "  19: 3379.807908444524,\n",
              "  20: 3386.3950236041705,\n",
              "  21: 3354.438473986951,\n",
              "  22: 3356.3575258604455,\n",
              "  23: 3360.720166186331,\n",
              "  24: 3363.297072238637},\n",
              " 'best_three_features': {1: 4003.9828413792443,\n",
              "  2: 4131.951959131938,\n",
              "  3: 3807.458087636542,\n",
              "  4: 3645.9482887864647,\n",
              "  5: 3543.6021088353828,\n",
              "  6: 3462.33319634914,\n",
              "  7: 3381.3053052910514,\n",
              "  8: 3221.8924875642992,\n",
              "  9: 3020.3504183783566,\n",
              "  10: 3082.8858075793623,\n",
              "  11: 3203.3271940951367,\n",
              "  12: 3320.32157031635,\n",
              "  13: 3480.138098268782,\n",
              "  14: 3483.163466888698,\n",
              "  15: 3488.2073831867865,\n",
              "  16: 3460.6885466860917,\n",
              "  17: 3420.7342053495818,\n",
              "  18: 3380.3570582571792,\n",
              "  19: 3379.807908444524,\n",
              "  20: 3386.3950236041705,\n",
              "  21: 3354.438473986951,\n",
              "  22: 3356.3575258604455,\n",
              "  23: 3360.720166186331,\n",
              "  24: 3363.297072238637}}"
            ]
          },
          "metadata": {
            "tags": []
          },
          "execution_count": 146
        }
      ]
    },
    {
      "cell_type": "code",
      "metadata": {
        "id": "sSjv3SXNdsqt",
        "outputId": "e75c6aa7-3593-4e1d-d4bb-2158073fef05",
        "colab": {
          "base_uri": "https://localhost:8080/",
          "height": 389
        }
      },
      "source": [
        "plt.figure(figsize=(6, 6))\n",
        "\n",
        "for key, value in k_rmses_results.items():\n",
        "\n",
        "  x = list(value.keys())\n",
        "  y = list(value.values())\n",
        "  plt.plot(x, y, label=key)\n",
        "  plt.xlabel('k_value')\n",
        "  plt.ylabel('RMSE')\n",
        "\n",
        "plt.legend()\n",
        "plt.show()"
      ],
      "execution_count": null,
      "outputs": [
        {
          "output_type": "display_data",
          "data": {
            "image/png": "[encoded data removed]",
            "text/plain": [
              "<Figure size 432x432 with 1 Axes>"
            ]
          },
          "metadata": {
            "tags": [],
            "needs_background": "light"
          }
        }
      ]
    }
  ]
}